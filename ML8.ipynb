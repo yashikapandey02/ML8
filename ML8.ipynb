{
 "cells": [
  {
   "cell_type": "code",
   "execution_count": null,
   "id": "a46636bf",
   "metadata": {},
   "outputs": [],
   "source": [
    "\n",
    "1. What exactly is a feature? Give an example to illustrate your point.\n",
    "\n",
    "Ans: Any tangible, measurable data in form of a list, or column that becomes the independent variable for any machine learning\n",
    "modelling problem, is called a feature.\n"
   ]
  },
  {
   "cell_type": "code",
   "execution_count": 2,
   "id": "33d49b36",
   "metadata": {},
   "outputs": [],
   "source": [
    "exp = [4,5,3,4,3,7,9,10,3,2,4] #An example for a randomly sampled experience feature\n",
    "salary = [25000,30000,20000,25000,20000,60000,80000,100000,20000,15000,25000] #target variable values for each independent var\n",
    "#From above feature exp, linear regression can be trained to predict the target variable salary."
   ]
  },
  {
   "cell_type": "code",
   "execution_count": null,
   "id": "800e873d",
   "metadata": {},
   "outputs": [],
   "source": [
    "\n",
    "2. What are the various circumstances in which feature construction is required?\n",
    "\n",
    "Ans:When more accurate model has to be created from limited data at hand\n",
    "    When improvement in generalizability is required\n",
    "    When improvement in model interpretability is required.\n",
    "\n"
   ]
  },
  {
   "cell_type": "code",
   "execution_count": null,
   "id": "afb363a0",
   "metadata": {},
   "outputs": [],
   "source": [
    "\n",
    "3. Describe how nominal variables are encoded.\n",
    "\n",
    "Ans: Nominal variables can be encoded in several ways\n",
    "\n",
    "i. One Hot Encoding\n",
    "\n",
    "Binary columns equal to the number of class labels present in the nominal variable are created in the form of sparse matrix,\n",
    "such that 0 indicates absence of a class label in a binary column and 1 indicates presence of a class label. Large number of \n",
    "such new variables or dummy variables can lead to the problem of dummy variable trap.\n",
    "\n",
    "ii. Integer Encoding\n",
    "\n",
    "Values of a nominal variable can be changed into integer values. A column containing class labels New Delhi and Mumbai can be\n",
    "encoded into integer values in the form of 1 and 2.\n"
   ]
  },
  {
   "cell_type": "code",
   "execution_count": null,
   "id": "dbcfdcc4",
   "metadata": {},
   "outputs": [],
   "source": [
    "\n",
    "4. Describe how numeric features are converted to categorical features.\n",
    "\n",
    "Ans:Numeric features or ordinal features can be converted into categorical features by putting values of a numerical feature \n",
    "    into bins or intervals. These intervals then become class labels and the feature becomes a categorical feature.\n"
   ]
  },
  {
   "cell_type": "code",
   "execution_count": null,
   "id": "bb3c0687",
   "metadata": {},
   "outputs": [],
   "source": [
    "\n",
    "5. Describe the feature selection wrapper approach. State the advantages and disadvantages of this approach?\n",
    "\n",
    "Ans:Wrapper approach is an iterative approach in feature selection where all combinations of subset of features is used to train\n",
    "    the model and a perfomance metric is used to test the model and check of there is an improvement of score over the previous \n",
    "    iteration where a different subset of features were used. Examples of this technique are forward feature selection and \n",
    "    backward feature selection.\n",
    "\n",
    "Advantage is that it works better than filter approach. Disadvantage is that it requires a lot of time to compute feature \n",
    "selection.\n"
   ]
  },
  {
   "cell_type": "code",
   "execution_count": null,
   "id": "b4640347",
   "metadata": {},
   "outputs": [],
   "source": [
    "\n",
    "6. When is a feature considered irrelevant? What can be said to quantify it?\n",
    " \n",
    "Ans:A feature is considered irrelevant when it does not contribute or is detrimental to the performance of a model. Feature \n",
    "    selection methods can be used to quantify a feature's relevance. For example, in a Multiple Linear Regression problem, \n",
    "    correlation coefficient can be used to quantify relevance of a feature.\n",
    "\n",
    "Techniques like forward feature selection can be used to iteratively quantify which features do not contribute to the accuracy\n",
    "of a machine learning model and can be removed.\n",
    "\n",
    "Feature importance is supported by many machine learning models like Decision Trees and it can be used to quantify relevance of\n",
    "features.\n"
   ]
  },
  {
   "cell_type": "code",
   "execution_count": null,
   "id": "f46c97fb",
   "metadata": {},
   "outputs": [],
   "source": [
    "\n",
    "7. When is a function considered redundant? What criteria are used to identify features that could be redundant?\n",
    "\n",
    "Ans:A feature is considered redundant when it does not contribute to the performance of a model by providing unique information.\n",
    "\n",
    "Criteria like Multicollinearity, non-unique information contribution, low feature importance score, little to no improvement in\n",
    "performance during forward and backward feature selection techniques, ANOVA etc help identify features that could be redundant.\n"
   ]
  },
  {
   "cell_type": "code",
   "execution_count": null,
   "id": "f170ab7f",
   "metadata": {},
   "outputs": [],
   "source": [
    "\n",
    "8. What are the various distance measurements used to determine feature similarity?\n",
    "\n",
    "Ans: Euclidean(L2) Distance:---\n",
    "\n",
    "The most commonly used measure of distance, it is the length of shortest line between any two points x1 and x2. For any 2 \n",
    "dimensional data, we can write the formula as d = ((p1-q1)^2+(p2-q2)^2)^1/2\n",
    "\n",
    "    Minkowski Distance:---\n",
    "\n",
    "It is a generalization of both Euclidean and Manhattan Distance. d=(sigma(|pi-qi|^p))^1/p where p is the value of order of \n",
    "normalization. When p=1, it represents Manhattan Distance and when p=2, it represents Euclidean Distance.\n",
    "\n",
    "    Hamming Distance:---\n",
    "\n",
    "It is measured as the number of locations at which binary vectors or binary values from two features differ. Hamming distance \n",
    "becomes very important while handling data of gene sequencing and gene code.\n",
    "\n",
    "    Manhattan(L1) Distance:---\n",
    "\n",
    "Sum of absolute differences between points across all dimensions. It can be written as d=sigma(|pi-qi|) where pi and qi are\n",
    "values for i to n data points.\n"
   ]
  },
  {
   "cell_type": "code",
   "execution_count": null,
   "id": "c9f35f58",
   "metadata": {},
   "outputs": [],
   "source": [
    "\n",
    "9. State difference between Euclidean and Manhattan distances?\n",
    "\n",
    "Ans:Euclidean distance is the length of the shortest line between any two points x1 and x2. Manhattan distance is the sum of \n",
    "absolute differences between points across all dimensions.\n",
    "\n",
    "Euclidean distance is mathematically written d = ((p1-q1)^2+(p2-q2)^2)^1/2. Manhattan distance is d=sigma(|pi-qi|) where pi and\n",
    "qi are values for i to n data points.\n",
    "\n",
    "Euclidean Distance performs poorly on high dimensional data. Manhattan distance works better than Euclidean Distance for high\n",
    "dimensional data.\n"
   ]
  },
  {
   "cell_type": "code",
   "execution_count": null,
   "id": "292e712e",
   "metadata": {},
   "outputs": [],
   "source": [
    "\n",
    "10. Distinguish between feature transformation and feature selection.\n",
    "\n",
    "Ans:Transforming datapoints into higher or lower dimension, or simply into features that can be used better for training phase\n",
    "    and creating new features from existing features is called Feature Engineering. Feature Selection is a method used in which\n",
    "    techniques can be used to select features based on their contribution to the model both information and performance-wise.\n"
   ]
  },
  {
   "cell_type": "code",
   "execution_count": null,
   "id": "0b59ed5d",
   "metadata": {},
   "outputs": [],
   "source": [
    "\n",
    "11. Make brief notes on any two of the following:\n",
    "\n",
    "Ans: iii. The width of the silhouette\n",
    "\n",
    "Estimate of average inter cluster distance to give efficacy/performance of cluster algorithms is called width of the silhouette.\n",
    "It can also be defined as how identical/similar a data point 'x' is to the data points inside the cluster to which x is assigned\n",
    ". Its value ranges from -1 to 1 where 1 means good and -1 means bad.\n",
    " \n",
    "iv. Receiver operating characteristic curve\n",
    "\n",
    "Curve plotted between True Positive Rate and False Positive Rate is Receiver Operating Characteristics curve and is used to find the area under the curve for ROC-AUC score for binary classification evaluation. True Positive Rate is calculated as Number of positives that were correctly classified divided by total number of positives. False Positive Rate is calculated as the number of positives incorrectly classified divided by total number of negatives.\n",
    "\n",
    "True Positive Rate and False Positive Rate are calculated for different thresholds values where thresholds take values starting from the highest probability scores assigned to data points and goes up to the lowest probability score.\n",
    "\n",
    "The curve is impacted by presence of outliers, and simple models. Extensions can be made to this curve to suit multiclass classification evaluation requirements.\n"
   ]
  }
 ],
 "metadata": {
  "kernelspec": {
   "display_name": "Python 3 (ipykernel)",
   "language": "python",
   "name": "python3"
  },
  "language_info": {
   "codemirror_mode": {
    "name": "ipython",
    "version": 3
   },
   "file_extension": ".py",
   "mimetype": "text/x-python",
   "name": "python",
   "nbconvert_exporter": "python",
   "pygments_lexer": "ipython3",
   "version": "3.9.7"
  }
 },
 "nbformat": 4,
 "nbformat_minor": 5
}
